{
 "cells": [
  {
   "cell_type": "code",
   "execution_count": 13,
   "metadata": {
    "pycharm": {
     "is_executing": false,
     "name": "#%%\n"
    }
   },
   "outputs": [],
   "source": [
    "import mountain_project\n",
    "from coordinate import Coordinate\n",
    "from triangle import Triangle\n",
    "from route import RatedRoute\n",
    "\n",
    "import configparser\n",
    "import gen_settings\n",
    "\n",
    "from ipyleaflet import Map, Marker, basemaps"
   ]
  },
  {
   "cell_type": "code",
   "execution_count": 14,
   "metadata": {
    "pycharm": {
     "name": "#%%\n"
    }
   },
   "outputs": [],
   "source": [
    "config = configparser.ConfigParser()\n",
    "config.read(gen_settings.SETTINGS_FILE)\n",
    "\n",
    "try:\n",
    "    mountain_project.MP_API_KEY = config['MP API']['key']\n",
    "except KeyError:\n",
    "    pass\n",
    "\n",
    "mountain_project.validate_key()\n"
   ]
  },
  {
   "cell_type": "code",
   "execution_count": 15,
   "metadata": {
    "collapsed": true,
    "jupyter": {
     "outputs_hidden": true
    },
    "pycharm": {
     "is_executing": true,
     "name": "#%%\n"
    }
   },
   "outputs": [
    {
     "data": {
      "application/vnd.jupyter.widget-view+json": {
       "model_id": "93f6f96a2e6f49d0941f6157791d6e4d",
       "version_major": 2,
       "version_minor": 0
      },
      "text/plain": [
       "Map(basemap={'url': 'https://stamen-tiles-a.a.ssl.fastly.net/terrain/{z}/{x}/{y}.png', 'attribution': 'Map til…"
      ]
     },
     "metadata": {},
     "output_type": "display_data"
    }
   ],
   "source": [
    "sw_co = Coordinate(36.680672, -109.354249)\n",
    "ne_co = Coordinate(41.051978, -101.913311)\n",
    "\n",
    "se_co = Coordinate(sw_co.lat, ne_co.lon)\n",
    "nw_co = Coordinate(ne_co.lat, sw_co.lon)\n",
    "\n",
    "t1 = Triangle([sw_co, se_co, nw_co])\n",
    "t2 = Triangle([nw_co, ne_co, se_co])\n",
    "\n",
    "colorado_center = sw_co / ne_co\n",
    "m = Map(center=colorado_center.tuple, zoom=7, basemap=basemaps.Stamen.Terrain, scroll_wheel_zoom=False)\n",
    "m.layout.width = '100%'\n",
    "m.layout.height = '600px'\n",
    "m"
   ]
  },
  {
   "cell_type": "code",
   "execution_count": 16,
   "metadata": {},
   "outputs": [],
   "source": [
    "routes = mountain_project.process_triangles([t1, t2], m)\n",
    "\n",
    "routes = [RatedRoute(r) for r in routes]"
   ]
  },
  {
   "cell_type": "code",
   "execution_count": 5,
   "metadata": {
    "pycharm": {
     "name": "#%%\n"
    },
    "scrolled": true
   },
   "outputs": [
    {
     "name": "stdout",
     "output_type": "stream",
     "text": [
      "Colorado: 315.7\n",
      "Boulder: 315.7\n",
      "Boulder Canyon: 254.4\n",
      "The Bihedral Area:  37.8\n",
      "The Sport Park:  30.5\n",
      "Upper Dream Canyon:  27.8\n",
      "Solaris:  23.5\n",
      "Surprising Crag:  19.3\n",
      "Avalon:  18.5\n",
      "Flatirons:  18.4\n",
      "The Watermark:  16.6\n",
      "The Bihedral (Upper Tier):  16.2\n",
      "South Face:  15.5\n",
      "Eldorado Mountain:  15.1\n",
      "Blob Rock Area:  12.1\n",
      "The Riviera:  11.6\n",
      "Across from The Bihedral aka Cascade Crag:  11.6\n",
      "Main Wall:  11.3\n",
      "Mountain Rose:    11\n",
      "Water Slabs:    11\n",
      "The Solar Dome (aka Lighthouse):  10.3\n",
      "The Lower Tier:    10\n",
      "Coney Island:   9.6\n",
      "Central:   9.5\n",
      "South:   8.9\n",
      "Animal World:   8.7\n",
      "Lower Animal World:   8.7\n",
      "Boulder Slips:   8.2\n",
      "Oceanic Wall:   7.8\n",
      "Nip and Tuck:   7.6\n",
      "Second Tier:   7.5\n",
      "Middle Wall:   7.5\n",
      "Blob Rock:   7.3\n",
      "Third Tier:   6.9\n",
      "Retirement Rock:   6.7\n",
      "Dream Dome:   5.7\n",
      "Red Devil:   4.9\n",
      "East Blob:   4.8\n",
      "Upper East Face:   4.8\n",
      "Der Freischutz:   4.6\n",
      "The Goose:   4.5\n",
      "Fern Canyon:   4.4\n",
      "Nebel Horn Ridge:   4.4\n",
      "The Stone Cafe:   4.3\n",
      "Secret Crag (aka Ridge 6):   4.1\n",
      "First Tier:   4.1\n",
      "Bell Buttress Massif:     4\n",
      "The Patio:     4\n",
      "Ridge 2:     4\n",
      "Buoux Montana:     4\n",
      "Mine Hole Crag:   3.9\n",
      "The Cornerstone:   3.9\n",
      "West Face:   3.8\n",
      "Hillbilly Rocks:   3.8\n",
      "Hillbilly Rock  1:   3.8\n",
      "Wall of the Dragon:   3.8\n",
      "Tonnere Tower:   3.5\n",
      "Sport Land:   3.5\n",
      "Frisky Cliff:   3.5\n",
      "The Bowling Alley:   3.5\n",
      "The Visor:   3.5\n",
      "Lower Right Side:   3.5\n",
      "The Clock Tower:   3.4\n",
      "Chicken Wall:   3.4\n",
      "Lower Dream Canyon:   3.3\n",
      "Plotinus Wall:   3.3\n",
      "Left Side:   3.3\n",
      "Lost Angel:   3.3\n",
      "Nursing Home:   3.3\n",
      "Wizard Rock:   3.2\n",
      "Sherwood Forest:   3.1\n",
      "West Gully:   3.1\n",
      "Ridge 4:     3\n",
      "Stepping Stones:   2.7\n"
     ]
    }
   ],
   "source": [
    "RatedRoute.sort_crags(routes, 'Boulder')\n"
   ]
  }
 ],
 "metadata": {
  "kernelspec": {
   "display_name": "Python 3",
   "language": "python",
   "name": "python3"
  },
  "language_info": {
   "codemirror_mode": {
    "name": "ipython",
    "version": 3
   },
   "file_extension": ".py",
   "mimetype": "text/x-python",
   "name": "python",
   "nbconvert_exporter": "python",
   "pygments_lexer": "ipython3",
   "version": "3.6.4"
  },
  "pycharm": {
   "stem_cell": {
    "cell_type": "raw",
    "metadata": {
     "collapsed": false
    },
    "source": []
   }
  }
 },
 "nbformat": 4,
 "nbformat_minor": 4
}
