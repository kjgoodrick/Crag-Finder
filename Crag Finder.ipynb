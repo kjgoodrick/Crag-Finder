{
 "cells": [
  {
   "cell_type": "code",
   "execution_count": 1,
   "metadata": {
    "pycharm": {
     "is_executing": false,
     "name": "#%%\n"
    }
   },
   "outputs": [],
   "source": [
    "import mountain_project\n",
    "from coordinate import Coordinate\n",
    "from triangle import Triangle\n",
    "from route import RatedRoute\n",
    "\n",
    "import configparser\n",
    "import gen_settings\n",
    "\n",
    "from ipyleaflet import Map, Marker, basemaps"
   ]
  },
  {
   "cell_type": "code",
   "execution_count": 2,
   "metadata": {
    "pycharm": {
     "name": "#%%\n"
    }
   },
   "outputs": [],
   "source": [
    "# Setup configuration\n",
    "# Make sure all settings at least have the defaults\n",
    "gen_settings.gen_settings()\n",
    "# Configure parser\n",
    "config = configparser.ConfigParser()\n",
    "config.read(gen_settings.SETTINGS_FILE)\n",
    "\n",
    "# Try to read MP API Key, we will prompt for one later so no need to do anything on error\n",
    "try:\n",
    "    mountain_project.MP_API_KEY = config['MP API']['key']\n",
    "except KeyError:\n",
    "    pass\n",
    "finally:\n",
    "    # Check if we have a valid key\n",
    "    mountain_project.validate_key()\n",
    "\n",
    "try:\n",
    "    RatedRoute.parse_config(config)\n",
    "except KeyError:\n",
    "    print('Using default score settings')\n",
    "    gen_settings.gen_settings()"
   ]
  },
  {
   "cell_type": "code",
   "execution_count": 3,
   "metadata": {
    "pycharm": {
     "is_executing": true,
     "name": "#%%\n"
    }
   },
   "outputs": [
    {
     "data": {
      "application/vnd.jupyter.widget-view+json": {
       "model_id": "41c3af29e57a4be280ec9e425097136b",
       "version_major": 2,
       "version_minor": 0
      },
      "text/plain": [
       "Map(basemap={'url': 'https://stamen-tiles-a.a.ssl.fastly.net/terrain/{z}/{x}/{y}.png', 'attribution': 'Map til…"
      ]
     },
     "metadata": {},
     "output_type": "display_data"
    }
   ],
   "source": [
    "sw_co = Coordinate(36.680672, -109.354249)\n",
    "ne_co = Coordinate(41.051978, -101.913311)\n",
    "\n",
    "se_co = Coordinate(sw_co.lat, ne_co.lon)\n",
    "nw_co = Coordinate(ne_co.lat, sw_co.lon)\n",
    "\n",
    "t1 = Triangle([sw_co, se_co, nw_co])\n",
    "t2 = Triangle([nw_co, ne_co, se_co])\n",
    "\n",
    "colorado_center = sw_co / ne_co\n",
    "m = Map(center=colorado_center.tuple, zoom=7, basemap=basemaps.Stamen.Terrain, scroll_wheel_zoom=False)\n",
    "m.layout.width = '100%'\n",
    "m.layout.height = '600px'\n",
    "m"
   ]
  },
  {
   "cell_type": "code",
   "execution_count": 4,
   "metadata": {},
   "outputs": [],
   "source": [
    "routes = mountain_project.process_triangles([t1, t2], m)\n",
    "\n",
    "routes = [RatedRoute(r) for r in routes]"
   ]
  },
  {
   "cell_type": "code",
   "execution_count": 5,
   "metadata": {
    "pycharm": {
     "name": "#%%\n"
    },
    "scrolled": true
   },
   "outputs": [
    {
     "name": "stdout",
     "output_type": "stream",
     "text": [
      "Colorado: 242.275\n",
      "Boulder: 242.275\n",
      "Boulder Canyon: 196.933\n",
      "The Sport Park: 32.0602\n",
      "The Bihedral Area: 26.6347\n",
      "Upper Dream Canyon: 23.1166\n",
      "Surprising Crag: 21.3813\n",
      "South Face: 18.7079\n",
      "Solaris: 16.2093\n",
      "Avalon: 13.1985\n",
      "Flatirons: 11.5869\n",
      "The Watermark: 11.093\n",
      "The Bihedral (Upper Tier): 10.9826\n",
      "Eldorado Mountain: 10.639\n",
      "Blob Rock Area: 8.20498\n",
      "The Riviera: 8.07387\n",
      "Across from The Bihedral aka Cascade Crag: 8.07056\n",
      "Main Wall: 7.98767\n",
      "Water Slabs: 7.87832\n",
      "Mountain Rose: 7.86308\n",
      "The Solar Dome (aka Lighthouse): 7.66418\n",
      "The Lower Tier: 7.57816\n",
      "Coney Island: 5.89838\n",
      "Central: 5.87221\n",
      "South: 5.71474\n",
      "Animal World: 5.6373\n",
      "Lower Animal World: 5.6373\n",
      "Boulder Slips: 5.514\n",
      "Oceanic Wall: 5.40131\n",
      "Nip and Tuck: 5.34664\n",
      "Second Tier: 5.31539\n",
      "Middle Wall: 5.31539\n",
      "The Clock Tower: 5.28124\n",
      "Chicken Wall: 5.28124\n",
      "Blob Rock: 5.25562\n",
      "Third Tier: 5.12246\n",
      "Retirement Rock: 5.06159\n",
      "The Bowling Alley: 5.03028\n",
      "Dream Dome: 4.70798\n",
      "Red Devil: 2.97484\n",
      "East Blob: 2.94936\n",
      "Upper East Face: 2.94936\n",
      "Der Freischutz: 2.89737\n",
      "The Goose: 2.87083\n",
      "Fern Canyon: 2.84391\n",
      "Nebel Horn Ridge: 2.84391\n",
      "The Stone Cafe: 2.81659\n",
      "Security Risk Massif: 2.78885\n",
      "Upper Security Risk: 2.78885\n",
      "Secret Crag (aka Ridge 6): 2.76068\n",
      "First Tier: 2.76068\n",
      "Bell Buttress Massif: 2.73205\n",
      "The Patio: 2.73205\n",
      "Ridge 2: 2.73205\n",
      "Buoux Montana: 2.73205\n",
      "Mine Hole Crag: 2.70294\n",
      "The Cornerstone: 2.70294\n",
      "West Face: 2.67332\n",
      "Hillbilly Rocks: 2.67332\n",
      "Hillbilly Rock  1: 2.67332\n",
      "Wall of the Dragon: 2.67332\n",
      "The Terrace: 2.61245\n",
      "Tonnere Tower: 2.58114\n",
      "Sport Land: 2.58114\n",
      "Frisky Cliff: 2.58114\n",
      "The Visor: 2.58114\n",
      "Lower Right Side: 2.58114\n",
      "Lower Dream Canyon: 2.51658\n",
      "Plotinus Wall: 2.51658\n",
      "Left Side: 2.51658\n",
      "Lost Angel: 2.51658\n",
      "Nursing Home: 2.51658\n",
      "Wizard Rock: 2.48324\n",
      "Main Crag: 2.44914\n",
      "Sherwood Forest: 2.44914\n",
      "West Gully: 2.44914\n",
      "Ridge 4: 2.41421\n",
      "Poison Ivy Dome: 2.41421\n",
      "Stepping Stones: 2.30384\n"
     ]
    }
   ],
   "source": [
    "RatedRoute.sort_crags(routes, 'Boulder')\n"
   ]
  }
 ],
 "metadata": {
  "kernelspec": {
   "display_name": "Python 3",
   "language": "python",
   "name": "python3"
  },
  "language_info": {
   "codemirror_mode": {
    "name": "ipython",
    "version": 3
   },
   "file_extension": ".py",
   "mimetype": "text/x-python",
   "name": "python",
   "nbconvert_exporter": "python",
   "pygments_lexer": "ipython3",
   "version": "3.6.4"
  },
  "pycharm": {
   "stem_cell": {
    "cell_type": "raw",
    "metadata": {
     "collapsed": false
    },
    "source": []
   }
  }
 },
 "nbformat": 4,
 "nbformat_minor": 4
}
